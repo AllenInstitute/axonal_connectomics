{
 "cells": [
  {
   "cell_type": "code",
   "execution_count": null,
   "metadata": {},
   "outputs": [
    {
     "ename": "",
     "evalue": "",
     "output_type": "error",
     "traceback": [
      "\u001b[1;31mRunning cells with 'Python 3.8.10 64-bit' requires ipykernel package.\n",
      "\u001b[1;31mRun the following command to install 'ipykernel' into the Python environment. \n",
      "\u001b[1;31mCommand: '/bin/python3 -m pip install ipykernel -U --user --force-reinstall'"
     ]
    }
   ],
   "source": [
    "import time\n",
    "import os\n",
    "import numpy as np\n",
    "from acpreprocessing.utils.metadata import parse_metadata\n",
    "from acpreprocessing.stitching_modules.convert_to_n5 import acquisition_dir_to_n5_dir\n",
    "from acpreprocessing.utils.nglink import update_state, create_overview\n",
    "from acpreprocessing.stitching_modules.stitch import create_json, stitch\n",
    "import argschema\n",
    "from argschema.fields import Boolean, Int, Str\n",
    "import posixpath"
   ]
  },
  {
   "cell_type": "code",
   "execution_count": null,
   "metadata": {},
   "outputs": [],
   "source": [
    "#acq_id = 'MN16_RH_S26a_220908_overview'\n",
    "acq_id = 'MN16_RH_S26a_220912_high_res_region'\n",
    "\n",
    "scope = 'iSPIM2'\n",
    "dirname = acq_id\n",
    "rootDir = os.path.join('/ispim2_data/workflow_data/iSPIM2', acq_id)\n",
    "\n",
    "run_input = {\n",
    "    \"outputDir\": f'/ACdata/processed/processed_samk/{acq_id}/',\n",
    "    \"rootDir\": f'{rootDir}/',\n",
    "    \"ds_name\": dirname,\n",
    "    \"mip_level\": 3,\n",
    "    \"md_filename\": f'{rootDir}/acqinfo_metadata.json',\n",
    "    \"consolidate_pos\": True,\n",
    "    \"reverse_stitch\": False,\n",
    "    \"deskew\": False,\n",
    "    \"stitch_channel\": 0,\n",
    "    \"stitch_json\": \"stitch-test.json\",\n",
    "    \"stitch_final\": \"stitch-final.json\",\n",
    "    \"state_json\": \"state-test.json\",\n",
    "    \"nglink_name\": \"nglink-test.txt\",\n",
    "    \"stitched_nglink\": \"stitched-nglink-test.txt\",\n",
    "    \"stitched_state\": \"stitched-state.json\"\n",
    "}\n",
    "\n",
    "md_input = {\n",
    "    \"rootDir\": run_input['rootDir'],\n",
    "    \"fname\": run_input['md_filename']\n",
    "}\n",
    "# md = parse_metadata.ParseMetadata(input_data=md_input).get_md()\n",
    "# dsname = md[\"stripdirs\"][0].split(\"_Pos\")[0]\n",
    "# run_input[\"ds_name\"]=dsname\n"
   ]
  },
  {
   "cell_type": "code",
   "execution_count": null,
   "metadata": {},
   "outputs": [],
   "source": [
    "# Parsing metadata\n",
    "run_input[\"reverse_stitch\"]=parse_metadata.ParseMetadata(input_data=md_input).get_direction()\n",
    "deskew = 0\n",
    "\n",
    "if run_input['deskew']:\n",
    "    deskew = np.cos(parse_metadata.ParseMetadata(input_data=md_input).get_angle())\n",
    "\n",
    "n_channels = parse_metadata.ParseMetadata(input_data=md_input).get_number_of_channels()\n",
    "n_pos = parse_metadata.ParseMetadata(input_data=md_input).get_number_of_positions()\n",
    "\n",
    "if n_pos == 0:\n",
    "    print(\"No positions to process\")\n",
    "\n",
    "convert_input = {\n",
    "    \"input_dir\": f\"{run_input['rootDir']}\",\n",
    "    \"output_dir\": f\"{run_input['outputDir']}\",\n",
    "    \"max_mip\": 5,\n",
    "    \"position_concurrency\": 5\n",
    "}"
   ]
  },
  {
   "cell_type": "code",
   "execution_count": null,
   "metadata": {},
   "outputs": [],
   "source": [
    "# Converting to N5\n",
    "if not os.path.isdir(convert_input['output_dir']):\n",
    "    acquisition_dir_to_n5_dir.AcquisitionDirToN5Dir(input_data=convert_input).run()\n",
    "else:\n",
    "    print(f\"Skipping conversion, {dirname} directory already exists\")"
   ]
  },
  {
   "cell_type": "code",
   "execution_count": null,
   "metadata": {},
   "outputs": [],
   "source": [
    "# Generating NG Link\n",
    "state = {\"showDefaultAnnotations\": False, \"layers\": []}\n",
    "\n",
    "overview_input={\n",
    "    \"run_input\": run_input\n",
    "}\n",
    "\n",
    "create_overview.Overview(input_data=overview_input).run(n_channels, n_pos, dirname, deskew, state=state)"
   ]
  }
 ],
 "metadata": {
  "kernelspec": {
   "display_name": "Python 3.8.10 64-bit",
   "language": "python",
   "name": "python3"
  },
  "language_info": {
   "codemirror_mode": {
    "name": "ipython",
    "version": 3
   },
   "file_extension": ".py",
   "mimetype": "text/x-python",
   "name": "python",
   "nbconvert_exporter": "python",
   "pygments_lexer": "ipython3",
   "version": "3.8.10"
  },
  "orig_nbformat": 4,
  "vscode": {
   "interpreter": {
    "hash": "916dbcbb3f70747c44a77c7bcd40155683ae19c65e1c03b4aa3499c5328201f1"
   }
  }
 },
 "nbformat": 4,
 "nbformat_minor": 2
}
