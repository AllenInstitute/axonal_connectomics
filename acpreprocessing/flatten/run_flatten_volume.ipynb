{
 "cells": [
  {
   "cell_type": "code",
   "execution_count": null,
   "metadata": {},
   "outputs": [],
   "source": [
    "import flatten_volume"
   ]
  },
  {
   "cell_type": "code",
   "execution_count": null,
   "metadata": {},
   "outputs": [],
   "source": [
    "MN7_3_2_S34_input = {\n",
    "    'acq_id': 'MN7_RH_3_2_S34_220126_high_res',\n",
    "    'raw_tif_dir': '/ACdata/iSPIM2_ACDATA_temp',\n",
    "    'input_dir': '/ACdata/processed/iSPIM2',\n",
    "    'input_format': 'n5',\n",
    "    'output_dir': '/ACdata/samk/flatten/MN7/MN7_RH_3_2',\n",
    "    'write_tif': True,\n",
    "    'write_n5': False,\n",
    "    'flat_side': 'bottom',\n",
    "    'global_thr': 32,\n",
    "    'navg': 32,\n",
    "    'nzout': 100,\n",
    "    'ztol': 0.6,\n",
    "    'npre': 0,\n",
    "}\n",
    "\n",
    "print('Flattening MN7_3_2_S34')\n",
    "mod = flatten_volume_old.FlattenVolumeModule(input_dict=MN7_3_2_S34_input)\n",
    "imvol = mod.read_volume()\n",
    "imvol_flat, z0s, imvolsml = mod.flatten(imvol)\n",
    "mod.write_output(imvol_flat, z0s=z0s, imvolsml=imvolsml)"
   ]
  },
  {
   "cell_type": "code",
   "execution_count": null,
   "metadata": {},
   "outputs": [],
   "source": [
    "MN7_3_2_S35_input = {\n",
    "    'acq_id': 'MN7_RH_3_2_S35_220127_high_res',\n",
    "    'raw_tif_dir': '/ACdata/iSPIM2_ACDATA_temp',\n",
    "    'input_dir': '/ACdata/processed/iSPIM2',\n",
    "    'input_format': 'n5',\n",
    "    'output_dir': '/ACdata/samk/flatten/MN7/MN7_RH_3_2',\n",
    "    'write_tif': True,\n",
    "    'write_n5': False,\n",
    "    'flat_side': 'top',\n",
    "    'global_thr': 32,\n",
    "    'navg': 32,\n",
    "    'nzout': 100,\n",
    "    'ztol': 0.6,\n",
    "    'npre': 0,\n",
    "}\n",
    "\n",
    "print('Flattening MN7_3_2_S35')\n",
    "mod = flatten_volume_old.FlattenVolumeModule(input_dict=MN7_3_2_S35_input)\n",
    "imvol = mod.read_volume()\n",
    "imvol_flat, z0s, imvolsml = mod.flatten(imvol)\n",
    "mod.write_output(imvol_flat, z0s=z0s, imvolsml=imvolsml)"
   ]
  },
  {
   "cell_type": "code",
   "execution_count": null,
   "metadata": {},
   "outputs": [],
   "source": [
    "MN8_S10_input = {\n",
    "    \"acq_id\": \"MN8_S10_220211_high_res\",\n",
    "    \"raw_tif_dir\": \"/ACdata/iSPIM2_ACDATA_temp\",\n",
    "    \"input_dir\": \"/ACdata/processed/iSPIM2\",\n",
    "    \"input_format\": \"n5\",\n",
    "    \"output_dir\": \"/ACdata/samk/flatten/MN8/MN8_S10_S11\",\n",
    "    \"write_tif\": True,\n",
    "    \"write_n5\": False,\n",
    "    \"flat_side\": \"bottom\",\n",
    "    \"global_thr\": 32,\n",
    "    \"navg\": 32,\n",
    "    \"nzout\": 100,\n",
    "    \"ztol\": 0.6,\n",
    "    \"npre\": 0\n",
    "}\n",
    "\n",
    "print('Flattening MN8_S10')\n",
    "mod = flatten_volume_old.FlattenVolumeModule(input_dict=MN8_S10_input)\n",
    "mod.run()"
   ]
  },
  {
   "cell_type": "code",
   "execution_count": null,
   "metadata": {},
   "outputs": [],
   "source": [
    "MN8_S11_input = {\n",
    "    \"acq_id\": \"MN8_RH_S11_220214_high_res\",\n",
    "    \"raw_tif_dir\": \"/ACdata/iSPIM2_ACDATA_temp\",\n",
    "    \"input_dir\": \"/ACdata/processed/iSPIM2\",\n",
    "    \"input_format\": \"n5\",\n",
    "    \"output_dir\": \"/ACdata/samk/flatten/MN8/MN8_S10_S11\",\n",
    "    \"write_tif\": True,\n",
    "    \"write_n5\": False,\n",
    "    \"flat_side\": \"top\",\n",
    "    \"global_thr\": 32,\n",
    "    \"navg\": 32,\n",
    "    \"nzout\": 100,\n",
    "    \"ztol\": 0.6,\n",
    "    \"npre\": 0\n",
    "}\n",
    "\n",
    "print('Flattening MN8_S11')\n",
    "mod = flatten_volume_old.FlattenVolumeModule(input_dict=MN8_S11_input)\n",
    "mod.run()"
   ]
  }
 ],
 "metadata": {
  "language_info": {
   "name": "python"
  },
  "orig_nbformat": 4
 },
 "nbformat": 4,
 "nbformat_minor": 2
}
