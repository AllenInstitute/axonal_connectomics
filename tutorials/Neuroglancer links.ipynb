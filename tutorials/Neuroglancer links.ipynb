{
 "cells": [
  {
   "cell_type": "markdown",
   "id": "ce0376a1",
   "metadata": {},
   "source": [
    "First import and initialize all the variables for the neuroglancer server and data location"
   ]
  },
  {
   "cell_type": "code",
   "execution_count": null,
   "id": "1df7ba4f",
   "metadata": {},
   "outputs": [],
   "source": [
    "#imports\n",
    "\n",
    "import os\n",
    "import requests"
   ]
  },
  {
   "cell_type": "markdown",
   "id": "8f54eee7",
   "metadata": {},
   "source": [
    "The <b>base url</b> tells you which neuroglancer to use. We have a deployment up on bigkahuna to help us develop specialized tools we want but for viewing, you could also use google's up to date version which is here: \"http://neuroglancer-demo.appspot.com\"\n",
    "\n",
    "\n",
    "For the data variables, choose the directory you want to look at on ACdata. <b>state.json</b> is a json file which Shubha generates by default which contains the information for generating the view containing all the positions. <b>stitched-state.json</b> is the same for after stitching is done. Both are located in the default location below:\n"
   ]
  },
  {
   "cell_type": "code",
   "execution_count": null,
   "id": "bdf241ad",
   "metadata": {},
   "outputs": [],
   "source": [
    "#initializations\n",
    "\n",
    "base_url=\"http://bigkahuna.corp.alleninstitute.org/neuroglancer/\" # which neuroglancer to use\n",
    "\n",
    "\n",
    "N5Dir = \"/ACdata/processed/MN7_RH_3_2_s27_high_res/\" # directory with N5 data\n",
    "statefile = \"http://bigkahuna.corp.alleninstitute.org\" + N5Dir + '/stitched-state.json' #default location \n",
    "#statefile = \"http://bigkahuna.corp.alleninstitute.org\" +N5Dir + '/state.json' #default location for overview\n",
    "print(statefile)"
   ]
  },
  {
   "cell_type": "markdown",
   "id": "37207666",
   "metadata": {},
   "source": [
    "You can click on the file above to view its contents in your browser. To read it into python:"
   ]
  },
  {
   "cell_type": "code",
   "execution_count": null,
   "id": "2632310d",
   "metadata": {},
   "outputs": [],
   "source": [
    "#read statefile and see what is in it. this loads it into a dictionary object in python\n",
    "\n",
    "state = requests.get(statefile).json()\n",
    "print(state)"
   ]
  },
  {
   "cell_type": "markdown",
   "id": "f5cf7e9c",
   "metadata": {},
   "source": [
    "Now let's generate a neuroglancer link given the statefile location"
   ]
  },
  {
   "cell_type": "code",
   "execution_count": null,
   "id": "d50f7ac4",
   "metadata": {},
   "outputs": [],
   "source": [
    "#generate a neuroglancer link with the statefile location\n",
    "\n",
    "mylink_statefile = base_url + \"/#!\" +statefile\n",
    "print(mylink_statefile)"
   ]
  },
  {
   "cell_type": "markdown",
   "id": "59245b15",
   "metadata": {},
   "source": [
    "Another way to do this using the state that you read into python:"
   ]
  },
  {
   "cell_type": "code",
   "execution_count": null,
   "id": "68b05350",
   "metadata": {},
   "outputs": [],
   "source": [
    "#another way to do that with the state itself\n",
    "\n",
    "from acpreprocessing.stitching_modules.nglink import  write_nglink\n",
    "\n",
    "myurl = write_nglink.make_neuroglancer_url(state,\n",
    "                          base_url=base_url)\n",
    "print(myurl)"
   ]
  },
  {
   "cell_type": "markdown",
   "id": "fdfd8ec8",
   "metadata": {},
   "source": [
    "Why would we want to do that when you have the state file already? Because now you can change the state to your convenience! Let's see how we can look more closely at Shader controls as a first example:\n"
   ]
  },
  {
   "cell_type": "code",
   "execution_count": null,
   "id": "cfa1b069",
   "metadata": {},
   "outputs": [],
   "source": [
    "# let's modify the state and try it\n",
    "\n",
    "for layer in state['layers']:\n",
    "    print(layer['shaderControls'])"
   ]
  },
  {
   "cell_type": "markdown",
   "id": "5b4a8be8",
   "metadata": {},
   "source": [
    "If we want to change the range in the data:"
   ]
  },
  {
   "cell_type": "code",
   "execution_count": null,
   "id": "7644fddc",
   "metadata": {},
   "outputs": [],
   "source": [
    "for layer in state['layers']:\n",
    "    layer['shaderControls']['normalized']['range'] = [1000,2000]\n",
    "\n",
    "print(state)"
   ]
  },
  {
   "cell_type": "markdown",
   "id": "7963b6a1",
   "metadata": {},
   "source": [
    "Notice that all the range values have changed. We can now generate our neuroglancer link like this:"
   ]
  },
  {
   "cell_type": "code",
   "execution_count": null,
   "id": "0befc517",
   "metadata": {},
   "outputs": [],
   "source": [
    "#create your link:\n",
    "\n",
    "myurl_with_updated_range = write_nglink.make_neuroglancer_url(state,\n",
    "                          base_url=base_url)\n",
    "print(myurl_with_updated_range)"
   ]
  },
  {
   "cell_type": "markdown",
   "id": "3ff3bd42",
   "metadata": {},
   "source": [
    "Alternatively, we can use some tools to shorten this!"
   ]
  },
  {
   "cell_type": "code",
   "execution_count": null,
   "id": "25d22af9",
   "metadata": {},
   "outputs": [],
   "source": [
    "#creating a tinyurl:\n",
    "\n",
    "from acpreprocessing.utils import make_tinyurl\n",
    "\n",
    "tinyurl = make_tinyurl.make_tiny(myurl_with_updated_range)\n",
    "print(tinyurl)"
   ]
  },
  {
   "cell_type": "markdown",
   "id": "5fa69726",
   "metadata": {},
   "source": [
    "Questions and homework:\n",
    "    \n",
    "What are the other things you can change in the layout?\n",
    "Exercise: generate neuroglancer link with only the first two positions\n",
    "\n"
   ]
  },
  {
   "cell_type": "code",
   "execution_count": null,
   "id": "982d685d",
   "metadata": {},
   "outputs": [],
   "source": []
  },
  {
   "cell_type": "code",
   "execution_count": null,
   "id": "208ac6a1",
   "metadata": {},
   "outputs": [],
   "source": []
  }
 ],
 "metadata": {
  "kernelspec": {
   "display_name": "Python 3 (ipykernel)",
   "language": "python",
   "name": "python3"
  },
  "language_info": {
   "codemirror_mode": {
    "name": "ipython",
    "version": 3
   },
   "file_extension": ".py",
   "mimetype": "text/x-python",
   "name": "python",
   "nbconvert_exporter": "python",
   "pygments_lexer": "ipython3",
   "version": "3.10.2"
  }
 },
 "nbformat": 4,
 "nbformat_minor": 5
}
