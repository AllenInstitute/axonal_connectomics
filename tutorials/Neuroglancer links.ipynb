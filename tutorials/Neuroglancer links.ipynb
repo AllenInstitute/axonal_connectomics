{
 "cells": [
  {
   "cell_type": "markdown",
   "id": "ce0376a1",
   "metadata": {},
   "source": [
    "First import and initialize all the variables for the neuroglancer server and data location"
   ]
  },
  {
   "cell_type": "code",
   "execution_count": 41,
   "id": "1df7ba4f",
   "metadata": {},
   "outputs": [],
   "source": [
    "#imports\n",
    "\n",
    "import os\n",
    "import requests"
   ]
  },
  {
   "cell_type": "markdown",
   "id": "8f54eee7",
   "metadata": {},
   "source": [
    "The <b>base url</b> tells you which neuroglancer to use. We have a deployment up on bigkahuna to help us develop specialized tools we want but for viewing, you could also use google's up to date version which is here: \"http://neuroglancer-demo.appspot.com\"\n",
    "\n",
    "\n",
    "For the data variables, choose the directory you want to look at on ACdata. <b>state.json</b> is a json file which Shubha generates by default which contains the information for generating the view containing all the positions. <b>stitched-state.json</b> is the same for after stitching is done. Both are located in the default location below:\n"
   ]
  },
  {
   "cell_type": "code",
   "execution_count": 42,
   "id": "bdf241ad",
   "metadata": {},
   "outputs": [
    {
     "name": "stdout",
     "output_type": "stream",
     "text": [
      "http://bigkahuna.corp.alleninstitute.org/ACdata/processed/MN7_RH_3_2_s27_high_res//state.json\n"
     ]
    }
   ],
   "source": [
    "#initializations\n",
    "\n",
    "base_url=\"http://bigkahuna.corp.alleninstitute.org/\" # which neuroglancer to use\n",
    "\n",
    "\n",
    "N5Dir = \"/ACdata/processed/MN7_RH_3_2_s27_high_res/\" # directory with N5 data\n",
    "statefile = \"http://bigkahuna.corp.alleninstitute.org\" + N5Dir + '/stitched-state.json' #default location \n",
    "#statefile = \"http://bigkahuna.corp.alleninstitute.org\" +N5Dir + '/state.json' #default location for overview\n",
    "print(statefile)"
   ]
  },
  {
   "cell_type": "markdown",
   "id": "37207666",
   "metadata": {},
   "source": [
    "You can click on the file above to view its contents in your browser. To read it into python:"
   ]
  },
  {
   "cell_type": "code",
   "execution_count": 44,
   "id": "2632310d",
   "metadata": {},
   "outputs": [
    {
     "name": "stdout",
     "output_type": "stream",
     "text": [
      "{'layers': [{'name': 'Pos0', 'shaderControls': {'normalized': {'range': [500, 1500]}}, 'source': {'transform': {'matrix': [[1, 0, 0, 358.13941495493054], [0, 1, 0, 0.0], [0, 0, 1, 126.91444361209868]], 'outputDimensions': {'x': [0.406, 'um'], 'y': [0.406, 'um'], 'z': [1.997728062723303, 'um']}}, 'url': 'n5://http://bigkahuna.corp.alleninstitute.org/ACdata/processed/MN7_RH_3_2_s27_high_res//Pos0.n5/multirespos0'}, 'type': 'image'}, {'name': 'Pos1', 'shaderControls': {'normalized': {'range': [500, 1500]}}, 'source': {'transform': {'matrix': [[1, 0, 0, 358.12384227849543], [0, 1, 0, 2283.342041015625], [0, 0, 1, 126.62536621093749]], 'outputDimensions': {'x': [0.406, 'um'], 'y': [0.406, 'um'], 'z': [1.997728062723303, 'um']}}, 'url': 'n5://http://bigkahuna.corp.alleninstitute.org/ACdata/processed/MN7_RH_3_2_s27_high_res//Pos1.n5/multirespos1'}, 'type': 'image'}, {'name': 'Pos2', 'shaderControls': {'normalized': {'range': [500, 1500]}}, 'source': {'transform': {'matrix': [[1, 0, 0, 335.9668808374554], [0, 1, 0, 4003.6029052734375], [0, 0, 1, 118.7778010368347]], 'outputDimensions': {'x': [0.406, 'um'], 'y': [0.406, 'um'], 'z': [1.997728062723303, 'um']}}, 'url': 'n5://http://bigkahuna.corp.alleninstitute.org/ACdata/processed/MN7_RH_3_2_s27_high_res//Pos2.n5/multirespos2'}, 'type': 'image'}, {'name': 'Pos3', 'shaderControls': {'normalized': {'range': [500, 1500]}}, 'source': {'transform': {'matrix': [[1, 0, 0, 314.6571197900921], [0, 1, 0, 5712.33056640625], [0, 0, 1, 110.7554678916931]], 'outputDimensions': {'x': [0.406, 'um'], 'y': [0.406, 'um'], 'z': [1.997728062723303, 'um']}}, 'url': 'n5://http://bigkahuna.corp.alleninstitute.org/ACdata/processed/MN7_RH_3_2_s27_high_res//Pos3.n5/multirespos3'}, 'type': 'image'}, {'name': 'Pos4', 'shaderControls': {'normalized': {'range': [500, 1500]}}, 'source': {'transform': {'matrix': [[1, 0, 0, 292.04589275456965], [0, 1, 0, 7451.9893798828125], [0, 0, 1, 102.76490306854247]], 'outputDimensions': {'x': [0.406, 'um'], 'y': [0.406, 'um'], 'z': [1.997728062723303, 'um']}}, 'url': 'n5://http://bigkahuna.corp.alleninstitute.org/ACdata/processed/MN7_RH_3_2_s27_high_res//Pos4.n5/multirespos4'}, 'type': 'image'}, {'name': 'Pos5', 'shaderControls': {'normalized': {'range': [500, 1500]}}, 'source': {'transform': {'matrix': [[1, 0, 0, 271.2580871973187], [0, 1, 0, 9158.80224609375], [0, 0, 1, 94.7933006286621]], 'outputDimensions': {'x': [0.406, 'um'], 'y': [0.406, 'um'], 'z': [1.997728062723303, 'um']}}, 'url': 'n5://http://bigkahuna.corp.alleninstitute.org/ACdata/processed/MN7_RH_3_2_s27_high_res//Pos5.n5/multirespos5'}, 'type': 'image'}, {'name': 'Pos6', 'shaderControls': {'normalized': {'range': [500, 1500]}}, 'source': {'transform': {'matrix': [[1, 0, 0, 249.84399417974055], [0, 1, 0, 10899.2802734375], [0, 0, 1, 86.81372070312499]], 'outputDimensions': {'x': [0.406, 'um'], 'y': [0.406, 'um'], 'z': [1.997728062723303, 'um']}}, 'url': 'n5://http://bigkahuna.corp.alleninstitute.org/ACdata/processed/MN7_RH_3_2_s27_high_res//Pos6.n5/multirespos6'}, 'type': 'image'}, {'name': 'Pos7', 'shaderControls': {'normalized': {'range': [500, 1500]}}, 'source': {'transform': {'matrix': [[1, 0, 0, 229.76094059087336], [0, 1, 0, 12606.106689453125], [0, 0, 1, 78.83975219726561]], 'outputDimensions': {'x': [0.406, 'um'], 'y': [0.406, 'um'], 'z': [1.997728062723303, 'um']}}, 'url': 'n5://http://bigkahuna.corp.alleninstitute.org/ACdata/processed/MN7_RH_3_2_s27_high_res//Pos7.n5/multirespos7'}, 'type': 'image'}, {'name': 'Pos8', 'shaderControls': {'normalized': {'range': [500, 1500]}}, 'source': {'transform': {'matrix': [[1, 0, 0, 208.77601245976985], [0, 1, 0, 14344.33020019531], [0, 0, 1, 70.87097311019896]], 'outputDimensions': {'x': [0.406, 'um'], 'y': [0.406, 'um'], 'z': [1.997728062723303, 'um']}}, 'url': 'n5://http://bigkahuna.corp.alleninstitute.org/ACdata/processed/MN7_RH_3_2_s27_high_res//Pos8.n5/multirespos8'}, 'type': 'image'}, {'name': 'Pos9', 'shaderControls': {'normalized': {'range': [500, 1500]}}, 'source': {'transform': {'matrix': [[1, 0, 0, 187.6875381860882], [0, 1, 0, 16053.188720703123], [0, 0, 1, 62.993132591247544]], 'outputDimensions': {'x': [0.406, 'um'], 'y': [0.406, 'um'], 'z': [1.997728062723303, 'um']}}, 'url': 'n5://http://bigkahuna.corp.alleninstitute.org/ACdata/processed/MN7_RH_3_2_s27_high_res//Pos9.n5/multirespos9'}, 'type': 'image'}, {'name': 'Pos10', 'shaderControls': {'normalized': {'range': [500, 1500]}}, 'source': {'transform': {'matrix': [[1, 0, 0, 168.66041759587824], [0, 1, 0, 17773.38842773437], [0, 0, 1, 55.4636297225952]], 'outputDimensions': {'x': [0.406, 'um'], 'y': [0.406, 'um'], 'z': [1.997728062723303, 'um']}}, 'url': 'n5://http://bigkahuna.corp.alleninstitute.org/ACdata/processed/MN7_RH_3_2_s27_high_res//Pos10.n5/multirespos10'}, 'type': 'image'}, {'name': 'Pos11', 'shaderControls': {'normalized': {'range': [500, 1500]}}, 'source': {'transform': {'matrix': [[1, 0, 0, 143.48947910405695], [0, 1, 0, 19501.298950195312], [0, 0, 1, 47.95719432830809]], 'outputDimensions': {'x': [0.406, 'um'], 'y': [0.406, 'um'], 'z': [1.997728062723303, 'um']}}, 'url': 'n5://http://bigkahuna.corp.alleninstitute.org/ACdata/processed/MN7_RH_3_2_s27_high_res//Pos11.n5/multirespos11'}, 'type': 'image'}, {'name': 'Pos12', 'shaderControls': {'normalized': {'range': [500, 1500]}}, 'source': {'transform': {'matrix': [[1, 0, 0, 128.57045272924006], [0, 1, 0, 21220.947998046875], [0, 0, 1, 40.08452653884886]], 'outputDimensions': {'x': [0.406, 'um'], 'y': [0.406, 'um'], 'z': [1.997728062723303, 'um']}}, 'url': 'n5://http://bigkahuna.corp.alleninstitute.org/ACdata/processed/MN7_RH_3_2_s27_high_res//Pos12.n5/multirespos12'}, 'type': 'image'}, {'name': 'Pos13', 'shaderControls': {'normalized': {'range': [500, 1500]}}, 'source': {'transform': {'matrix': [[1, 0, 0, 105.61771682836115], [0, 1, 0, 22964.813232421875], [0, 0, 1, 32.07001352310179]], 'outputDimensions': {'x': [0.406, 'um'], 'y': [0.406, 'um'], 'z': [1.997728062723303, 'um']}}, 'url': 'n5://http://bigkahuna.corp.alleninstitute.org/ACdata/processed/MN7_RH_3_2_s27_high_res//Pos13.n5/multirespos13'}, 'type': 'image'}, {'name': 'Pos14', 'shaderControls': {'normalized': {'range': [500, 1500]}}, 'source': {'transform': {'matrix': [[1, 0, 0, 84.02714256383479], [0, 1, 0, 24684.833129882812], [0, 0, 1, 24.33958768844603]], 'outputDimensions': {'x': [0.406, 'um'], 'y': [0.406, 'um'], 'z': [1.997728062723303, 'um']}}, 'url': 'n5://http://bigkahuna.corp.alleninstitute.org/ACdata/processed/MN7_RH_3_2_s27_high_res//Pos14.n5/multirespos14'}, 'type': 'image'}, {'name': 'Pos15', 'shaderControls': {'normalized': {'range': [500, 1500]}}, 'source': {'transform': {'matrix': [[1, 0, 0, 61.721240082755685], [0, 1, 0, 26429.08129882813], [0, 0, 1, 16.049221515655503]], 'outputDimensions': {'x': [0.406, 'um'], 'y': [0.406, 'um'], 'z': [1.997728062723303, 'um']}}, 'url': 'n5://http://bigkahuna.corp.alleninstitute.org/ACdata/processed/MN7_RH_3_2_s27_high_res//Pos15.n5/multirespos15'}, 'type': 'image'}, {'name': 'Pos16', 'shaderControls': {'normalized': {'range': [500, 1500]}}, 'source': {'transform': {'matrix': [[1, 0, 0, 40.79490570165217], [0, 1, 0, 28137.08129882813], [0, 0, 1, 7.533556461334214]], 'outputDimensions': {'x': [0.406, 'um'], 'y': [0.406, 'um'], 'z': [1.997728062723303, 'um']}}, 'url': 'n5://http://bigkahuna.corp.alleninstitute.org/ACdata/processed/MN7_RH_3_2_s27_high_res//Pos16.n5/multirespos16'}, 'type': 'image'}, {'name': 'Pos17', 'shaderControls': {'normalized': {'range': [500, 1500]}}, 'source': {'transform': {'matrix': [[1, 0, 0, 21.95512298680842], [0, 1, 0, 29865.133666992188], [0, 0, 1, 0.0]], 'outputDimensions': {'x': [0.406, 'um'], 'y': [0.406, 'um'], 'z': [1.997728062723303, 'um']}}, 'url': 'n5://http://bigkahuna.corp.alleninstitute.org/ACdata/processed/MN7_RH_3_2_s27_high_res//Pos17.n5/multirespos17'}, 'type': 'image'}, {'name': 'Pos18', 'shaderControls': {'normalized': {'range': [500, 1500]}}, 'source': {'transform': {'matrix': [[1, 0, 0, 0.10654358007013798], [0, 1, 0, 31584.818359375004], [0, 0, 1, 0.8279836773872375]], 'outputDimensions': {'x': [0.406, 'um'], 'y': [0.406, 'um'], 'z': [1.997728062723303, 'um']}}, 'url': 'n5://http://bigkahuna.corp.alleninstitute.org/ACdata/processed/MN7_RH_3_2_s27_high_res//Pos18.n5/multirespos18'}, 'type': 'image'}, {'name': 'Pos19', 'shaderControls': {'normalized': {'range': [500, 1500]}}, 'source': {'transform': {'matrix': [[1, 0, 0, 0.1292809545993805], [0, 1, 0, 33841.76098632813], [0, 0, 1, 0.5867610424756862]], 'outputDimensions': {'x': [0.406, 'um'], 'y': [0.406, 'um'], 'z': [1.997728062723303, 'um']}}, 'url': 'n5://http://bigkahuna.corp.alleninstitute.org/ACdata/processed/MN7_RH_3_2_s27_high_res//Pos19.n5/multirespos19'}, 'type': 'image'}, {'name': 'Pos20', 'shaderControls': {'normalized': {'range': [500, 1500]}}, 'source': {'transform': {'matrix': [[1, 0, 0, 0.0], [0, 1, 0, 36118.86254882813], [0, 0, 1, 0.32442249357698927]], 'outputDimensions': {'x': [0.406, 'um'], 'y': [0.406, 'um'], 'z': [1.997728062723303, 'um']}}, 'url': 'n5://http://bigkahuna.corp.alleninstitute.org/ACdata/processed/MN7_RH_3_2_s27_high_res//Pos20.n5/multirespos20'}, 'type': 'image'}], 'showDefaultAnnotations': False}\n"
     ]
    }
   ],
   "source": [
    "#read statefile and see what is in it. this loads it into a dictionary object in python\n",
    "\n",
    "state = requests.get(statefile).json()\n",
    "print(state)"
   ]
  },
  {
   "cell_type": "markdown",
   "id": "f5cf7e9c",
   "metadata": {},
   "source": [
    "Now let's generate a neuroglancer link given the statefile location"
   ]
  },
  {
   "cell_type": "code",
   "execution_count": 45,
   "id": "d50f7ac4",
   "metadata": {},
   "outputs": [
    {
     "name": "stdout",
     "output_type": "stream",
     "text": [
      "http://bigkahuna.corp.alleninstitute.org/neuroglancer/#!http://bigkahuna.corp.alleninstitute.org/ACdata/processed/MN7_RH_3_2_s27_high_res//state.json\n"
     ]
    }
   ],
   "source": [
    "#generate a neuroglancer link with the statefile location\n",
    "\n",
    "mylink_statefile = base_url + \"neuroglancer/#!\" +statefile\n",
    "print(mylink_statefile)"
   ]
  },
  {
   "cell_type": "markdown",
   "id": "59245b15",
   "metadata": {},
   "source": [
    "Another way to do this using the state that you read into python:"
   ]
  },
  {
   "cell_type": "code",
   "execution_count": 29,
   "id": "68b05350",
   "metadata": {},
   "outputs": [
    {
     "name": "stdout",
     "output_type": "stream",
     "text": [
      "http://bigkahuna.corp.alleninstitute.org/neuroglancer/#!%7B\"layers\":%5B%7B\"name\":\"Pos0\"%2C\"shaderControls\":%7B\"normalized\":%7B\"range\":%5B500%2C1500%5D%7D%7D%2C\"source\":%7B\"transform\":%7B\"matrix\":%5B%5B1%2C0%2C0%2C358.13941495493054%5D%2C%5B0%2C1%2C0%2C0.0%5D%2C%5B0%2C0%2C1%2C126.91444361209868%5D%5D%2C\"outputDimensions\":%7B\"x\":%5B0.406%2C\"um\"%5D%2C\"y\":%5B0.406%2C\"um\"%5D%2C\"z\":%5B1.997728062723303%2C\"um\"%5D%7D%7D%2C\"url\":\"n5://http://bigkahuna.corp.alleninstitute.org/ACdata/processed/MN7_RH_3_2_s27_high_res//Pos0.n5/multirespos0\"%7D%2C\"type\":\"image\"%7D%2C%7B\"name\":\"Pos1\"%2C\"shaderControls\":%7B\"normalized\":%7B\"range\":%5B500%2C1500%5D%7D%7D%2C\"source\":%7B\"transform\":%7B\"matrix\":%5B%5B1%2C0%2C0%2C358.12384227849543%5D%2C%5B0%2C1%2C0%2C2283.342041015625%5D%2C%5B0%2C0%2C1%2C126.62536621093749%5D%5D%2C\"outputDimensions\":%7B\"x\":%5B0.406%2C\"um\"%5D%2C\"y\":%5B0.406%2C\"um\"%5D%2C\"z\":%5B1.997728062723303%2C\"um\"%5D%7D%7D%2C\"url\":\"n5://http://bigkahuna.corp.alleninstitute.org/ACdata/processed/MN7_RH_3_2_s27_high_res//Pos1.n5/multirespos1\"%7D%2C\"type\":\"image\"%7D%2C%7B\"name\":\"Pos2\"%2C\"shaderControls\":%7B\"normalized\":%7B\"range\":%5B500%2C1500%5D%7D%7D%2C\"source\":%7B\"transform\":%7B\"matrix\":%5B%5B1%2C0%2C0%2C335.9668808374554%5D%2C%5B0%2C1%2C0%2C4003.6029052734375%5D%2C%5B0%2C0%2C1%2C118.7778010368347%5D%5D%2C\"outputDimensions\":%7B\"x\":%5B0.406%2C\"um\"%5D%2C\"y\":%5B0.406%2C\"um\"%5D%2C\"z\":%5B1.997728062723303%2C\"um\"%5D%7D%7D%2C\"url\":\"n5://http://bigkahuna.corp.alleninstitute.org/ACdata/processed/MN7_RH_3_2_s27_high_res//Pos2.n5/multirespos2\"%7D%2C\"type\":\"image\"%7D%2C%7B\"name\":\"Pos3\"%2C\"shaderControls\":%7B\"normalized\":%7B\"range\":%5B500%2C1500%5D%7D%7D%2C\"source\":%7B\"transform\":%7B\"matrix\":%5B%5B1%2C0%2C0%2C314.6571197900921%5D%2C%5B0%2C1%2C0%2C5712.33056640625%5D%2C%5B0%2C0%2C1%2C110.7554678916931%5D%5D%2C\"outputDimensions\":%7B\"x\":%5B0.406%2C\"um\"%5D%2C\"y\":%5B0.406%2C\"um\"%5D%2C\"z\":%5B1.997728062723303%2C\"um\"%5D%7D%7D%2C\"url\":\"n5://http://bigkahuna.corp.alleninstitute.org/ACdata/processed/MN7_RH_3_2_s27_high_res//Pos3.n5/multirespos3\"%7D%2C\"type\":\"image\"%7D%2C%7B\"name\":\"Pos4\"%2C\"shaderControls\":%7B\"normalized\":%7B\"range\":%5B500%2C1500%5D%7D%7D%2C\"source\":%7B\"transform\":%7B\"matrix\":%5B%5B1%2C0%2C0%2C292.04589275456965%5D%2C%5B0%2C1%2C0%2C7451.9893798828125%5D%2C%5B0%2C0%2C1%2C102.76490306854247%5D%5D%2C\"outputDimensions\":%7B\"x\":%5B0.406%2C\"um\"%5D%2C\"y\":%5B0.406%2C\"um\"%5D%2C\"z\":%5B1.997728062723303%2C\"um\"%5D%7D%7D%2C\"url\":\"n5://http://bigkahuna.corp.alleninstitute.org/ACdata/processed/MN7_RH_3_2_s27_high_res//Pos4.n5/multirespos4\"%7D%2C\"type\":\"image\"%7D%2C%7B\"name\":\"Pos5\"%2C\"shaderControls\":%7B\"normalized\":%7B\"range\":%5B500%2C1500%5D%7D%7D%2C\"source\":%7B\"transform\":%7B\"matrix\":%5B%5B1%2C0%2C0%2C271.2580871973187%5D%2C%5B0%2C1%2C0%2C9158.80224609375%5D%2C%5B0%2C0%2C1%2C94.7933006286621%5D%5D%2C\"outputDimensions\":%7B\"x\":%5B0.406%2C\"um\"%5D%2C\"y\":%5B0.406%2C\"um\"%5D%2C\"z\":%5B1.997728062723303%2C\"um\"%5D%7D%7D%2C\"url\":\"n5://http://bigkahuna.corp.alleninstitute.org/ACdata/processed/MN7_RH_3_2_s27_high_res//Pos5.n5/multirespos5\"%7D%2C\"type\":\"image\"%7D%2C%7B\"name\":\"Pos6\"%2C\"shaderControls\":%7B\"normalized\":%7B\"range\":%5B500%2C1500%5D%7D%7D%2C\"source\":%7B\"transform\":%7B\"matrix\":%5B%5B1%2C0%2C0%2C249.84399417974055%5D%2C%5B0%2C1%2C0%2C10899.2802734375%5D%2C%5B0%2C0%2C1%2C86.81372070312499%5D%5D%2C\"outputDimensions\":%7B\"x\":%5B0.406%2C\"um\"%5D%2C\"y\":%5B0.406%2C\"um\"%5D%2C\"z\":%5B1.997728062723303%2C\"um\"%5D%7D%7D%2C\"url\":\"n5://http://bigkahuna.corp.alleninstitute.org/ACdata/processed/MN7_RH_3_2_s27_high_res//Pos6.n5/multirespos6\"%7D%2C\"type\":\"image\"%7D%2C%7B\"name\":\"Pos7\"%2C\"shaderControls\":%7B\"normalized\":%7B\"range\":%5B500%2C1500%5D%7D%7D%2C\"source\":%7B\"transform\":%7B\"matrix\":%5B%5B1%2C0%2C0%2C229.76094059087336%5D%2C%5B0%2C1%2C0%2C12606.106689453125%5D%2C%5B0%2C0%2C1%2C78.83975219726561%5D%5D%2C\"outputDimensions\":%7B\"x\":%5B0.406%2C\"um\"%5D%2C\"y\":%5B0.406%2C\"um\"%5D%2C\"z\":%5B1.997728062723303%2C\"um\"%5D%7D%7D%2C\"url\":\"n5://http://bigkahuna.corp.alleninstitute.org/ACdata/processed/MN7_RH_3_2_s27_high_res//Pos7.n5/multirespos7\"%7D%2C\"type\":\"image\"%7D%2C%7B\"name\":\"Pos8\"%2C\"shaderControls\":%7B\"normalized\":%7B\"range\":%5B500%2C1500%5D%7D%7D%2C\"source\":%7B\"transform\":%7B\"matrix\":%5B%5B1%2C0%2C0%2C208.77601245976985%5D%2C%5B0%2C1%2C0%2C14344.33020019531%5D%2C%5B0%2C0%2C1%2C70.87097311019896%5D%5D%2C\"outputDimensions\":%7B\"x\":%5B0.406%2C\"um\"%5D%2C\"y\":%5B0.406%2C\"um\"%5D%2C\"z\":%5B1.997728062723303%2C\"um\"%5D%7D%7D%2C\"url\":\"n5://http://bigkahuna.corp.alleninstitute.org/ACdata/processed/MN7_RH_3_2_s27_high_res//Pos8.n5/multirespos8\"%7D%2C\"type\":\"image\"%7D%2C%7B\"name\":\"Pos9\"%2C\"shaderControls\":%7B\"normalized\":%7B\"range\":%5B500%2C1500%5D%7D%7D%2C\"source\":%7B\"transform\":%7B\"matrix\":%5B%5B1%2C0%2C0%2C187.6875381860882%5D%2C%5B0%2C1%2C0%2C16053.188720703123%5D%2C%5B0%2C0%2C1%2C62.993132591247544%5D%5D%2C\"outputDimensions\":%7B\"x\":%5B0.406%2C\"um\"%5D%2C\"y\":%5B0.406%2C\"um\"%5D%2C\"z\":%5B1.997728062723303%2C\"um\"%5D%7D%7D%2C\"url\":\"n5://http://bigkahuna.corp.alleninstitute.org/ACdata/processed/MN7_RH_3_2_s27_high_res//Pos9.n5/multirespos9\"%7D%2C\"type\":\"image\"%7D%2C%7B\"name\":\"Pos10\"%2C\"shaderControls\":%7B\"normalized\":%7B\"range\":%5B500%2C1500%5D%7D%7D%2C\"source\":%7B\"transform\":%7B\"matrix\":%5B%5B1%2C0%2C0%2C168.66041759587824%5D%2C%5B0%2C1%2C0%2C17773.38842773437%5D%2C%5B0%2C0%2C1%2C55.4636297225952%5D%5D%2C\"outputDimensions\":%7B\"x\":%5B0.406%2C\"um\"%5D%2C\"y\":%5B0.406%2C\"um\"%5D%2C\"z\":%5B1.997728062723303%2C\"um\"%5D%7D%7D%2C\"url\":\"n5://http://bigkahuna.corp.alleninstitute.org/ACdata/processed/MN7_RH_3_2_s27_high_res//Pos10.n5/multirespos10\"%7D%2C\"type\":\"image\"%7D%2C%7B\"name\":\"Pos11\"%2C\"shaderControls\":%7B\"normalized\":%7B\"range\":%5B500%2C1500%5D%7D%7D%2C\"source\":%7B\"transform\":%7B\"matrix\":%5B%5B1%2C0%2C0%2C143.48947910405695%5D%2C%5B0%2C1%2C0%2C19501.298950195312%5D%2C%5B0%2C0%2C1%2C47.95719432830809%5D%5D%2C\"outputDimensions\":%7B\"x\":%5B0.406%2C\"um\"%5D%2C\"y\":%5B0.406%2C\"um\"%5D%2C\"z\":%5B1.997728062723303%2C\"um\"%5D%7D%7D%2C\"url\":\"n5://http://bigkahuna.corp.alleninstitute.org/ACdata/processed/MN7_RH_3_2_s27_high_res//Pos11.n5/multirespos11\"%7D%2C\"type\":\"image\"%7D%2C%7B\"name\":\"Pos12\"%2C\"shaderControls\":%7B\"normalized\":%7B\"range\":%5B500%2C1500%5D%7D%7D%2C\"source\":%7B\"transform\":%7B\"matrix\":%5B%5B1%2C0%2C0%2C128.57045272924006%5D%2C%5B0%2C1%2C0%2C21220.947998046875%5D%2C%5B0%2C0%2C1%2C40.08452653884886%5D%5D%2C\"outputDimensions\":%7B\"x\":%5B0.406%2C\"um\"%5D%2C\"y\":%5B0.406%2C\"um\"%5D%2C\"z\":%5B1.997728062723303%2C\"um\"%5D%7D%7D%2C\"url\":\"n5://http://bigkahuna.corp.alleninstitute.org/ACdata/processed/MN7_RH_3_2_s27_high_res//Pos12.n5/multirespos12\"%7D%2C\"type\":\"image\"%7D%2C%7B\"name\":\"Pos13\"%2C\"shaderControls\":%7B\"normalized\":%7B\"range\":%5B500%2C1500%5D%7D%7D%2C\"source\":%7B\"transform\":%7B\"matrix\":%5B%5B1%2C0%2C0%2C105.61771682836115%5D%2C%5B0%2C1%2C0%2C22964.813232421875%5D%2C%5B0%2C0%2C1%2C32.07001352310179%5D%5D%2C\"outputDimensions\":%7B\"x\":%5B0.406%2C\"um\"%5D%2C\"y\":%5B0.406%2C\"um\"%5D%2C\"z\":%5B1.997728062723303%2C\"um\"%5D%7D%7D%2C\"url\":\"n5://http://bigkahuna.corp.alleninstitute.org/ACdata/processed/MN7_RH_3_2_s27_high_res//Pos13.n5/multirespos13\"%7D%2C\"type\":\"image\"%7D%2C%7B\"name\":\"Pos14\"%2C\"shaderControls\":%7B\"normalized\":%7B\"range\":%5B500%2C1500%5D%7D%7D%2C\"source\":%7B\"transform\":%7B\"matrix\":%5B%5B1%2C0%2C0%2C84.02714256383479%5D%2C%5B0%2C1%2C0%2C24684.833129882812%5D%2C%5B0%2C0%2C1%2C24.33958768844603%5D%5D%2C\"outputDimensions\":%7B\"x\":%5B0.406%2C\"um\"%5D%2C\"y\":%5B0.406%2C\"um\"%5D%2C\"z\":%5B1.997728062723303%2C\"um\"%5D%7D%7D%2C\"url\":\"n5://http://bigkahuna.corp.alleninstitute.org/ACdata/processed/MN7_RH_3_2_s27_high_res//Pos14.n5/multirespos14\"%7D%2C\"type\":\"image\"%7D%2C%7B\"name\":\"Pos15\"%2C\"shaderControls\":%7B\"normalized\":%7B\"range\":%5B500%2C1500%5D%7D%7D%2C\"source\":%7B\"transform\":%7B\"matrix\":%5B%5B1%2C0%2C0%2C61.721240082755685%5D%2C%5B0%2C1%2C0%2C26429.08129882813%5D%2C%5B0%2C0%2C1%2C16.049221515655503%5D%5D%2C\"outputDimensions\":%7B\"x\":%5B0.406%2C\"um\"%5D%2C\"y\":%5B0.406%2C\"um\"%5D%2C\"z\":%5B1.997728062723303%2C\"um\"%5D%7D%7D%2C\"url\":\"n5://http://bigkahuna.corp.alleninstitute.org/ACdata/processed/MN7_RH_3_2_s27_high_res//Pos15.n5/multirespos15\"%7D%2C\"type\":\"image\"%7D%2C%7B\"name\":\"Pos16\"%2C\"shaderControls\":%7B\"normalized\":%7B\"range\":%5B500%2C1500%5D%7D%7D%2C\"source\":%7B\"transform\":%7B\"matrix\":%5B%5B1%2C0%2C0%2C40.79490570165217%5D%2C%5B0%2C1%2C0%2C28137.08129882813%5D%2C%5B0%2C0%2C1%2C7.533556461334214%5D%5D%2C\"outputDimensions\":%7B\"x\":%5B0.406%2C\"um\"%5D%2C\"y\":%5B0.406%2C\"um\"%5D%2C\"z\":%5B1.997728062723303%2C\"um\"%5D%7D%7D%2C\"url\":\"n5://http://bigkahuna.corp.alleninstitute.org/ACdata/processed/MN7_RH_3_2_s27_high_res//Pos16.n5/multirespos16\"%7D%2C\"type\":\"image\"%7D%2C%7B\"name\":\"Pos17\"%2C\"shaderControls\":%7B\"normalized\":%7B\"range\":%5B500%2C1500%5D%7D%7D%2C\"source\":%7B\"transform\":%7B\"matrix\":%5B%5B1%2C0%2C0%2C21.95512298680842%5D%2C%5B0%2C1%2C0%2C29865.133666992188%5D%2C%5B0%2C0%2C1%2C0.0%5D%5D%2C\"outputDimensions\":%7B\"x\":%5B0.406%2C\"um\"%5D%2C\"y\":%5B0.406%2C\"um\"%5D%2C\"z\":%5B1.997728062723303%2C\"um\"%5D%7D%7D%2C\"url\":\"n5://http://bigkahuna.corp.alleninstitute.org/ACdata/processed/MN7_RH_3_2_s27_high_res//Pos17.n5/multirespos17\"%7D%2C\"type\":\"image\"%7D%2C%7B\"name\":\"Pos18\"%2C\"shaderControls\":%7B\"normalized\":%7B\"range\":%5B500%2C1500%5D%7D%7D%2C\"source\":%7B\"transform\":%7B\"matrix\":%5B%5B1%2C0%2C0%2C0.10654358007013798%5D%2C%5B0%2C1%2C0%2C31584.818359375004%5D%2C%5B0%2C0%2C1%2C0.8279836773872375%5D%5D%2C\"outputDimensions\":%7B\"x\":%5B0.406%2C\"um\"%5D%2C\"y\":%5B0.406%2C\"um\"%5D%2C\"z\":%5B1.997728062723303%2C\"um\"%5D%7D%7D%2C\"url\":\"n5://http://bigkahuna.corp.alleninstitute.org/ACdata/processed/MN7_RH_3_2_s27_high_res//Pos18.n5/multirespos18\"%7D%2C\"type\":\"image\"%7D%2C%7B\"name\":\"Pos19\"%2C\"shaderControls\":%7B\"normalized\":%7B\"range\":%5B500%2C1500%5D%7D%7D%2C\"source\":%7B\"transform\":%7B\"matrix\":%5B%5B1%2C0%2C0%2C0.1292809545993805%5D%2C%5B0%2C1%2C0%2C33841.76098632813%5D%2C%5B0%2C0%2C1%2C0.5867610424756862%5D%5D%2C\"outputDimensions\":%7B\"x\":%5B0.406%2C\"um\"%5D%2C\"y\":%5B0.406%2C\"um\"%5D%2C\"z\":%5B1.997728062723303%2C\"um\"%5D%7D%7D%2C\"url\":\"n5://http://bigkahuna.corp.alleninstitute.org/ACdata/processed/MN7_RH_3_2_s27_high_res//Pos19.n5/multirespos19\"%7D%2C\"type\":\"image\"%7D%2C%7B\"name\":\"Pos20\"%2C\"shaderControls\":%7B\"normalized\":%7B\"range\":%5B500%2C1500%5D%7D%7D%2C\"source\":%7B\"transform\":%7B\"matrix\":%5B%5B1%2C0%2C0%2C0.0%5D%2C%5B0%2C1%2C0%2C36118.86254882813%5D%2C%5B0%2C0%2C1%2C0.32442249357698927%5D%5D%2C\"outputDimensions\":%7B\"x\":%5B0.406%2C\"um\"%5D%2C\"y\":%5B0.406%2C\"um\"%5D%2C\"z\":%5B1.997728062723303%2C\"um\"%5D%7D%7D%2C\"url\":\"n5://http://bigkahuna.corp.alleninstitute.org/ACdata/processed/MN7_RH_3_2_s27_high_res//Pos20.n5/multirespos20\"%7D%2C\"type\":\"image\"%7D%5D%2C\"showDefaultAnnotations\":false%7D\n"
     ]
    }
   ],
   "source": [
    "#another way to do that with the state itself\n",
    "\n",
    "from acpreprocessing.stitching_modules.nglink import  write_nglink\n",
    "\n",
    "myurl = write_nglink.make_neuroglancer_url(state,\n",
    "                          base_url=\"http://bigkahuna.corp.alleninstitute.org/\"\n",
    "                          \"neuroglancer\")\n",
    "print(myurl)"
   ]
  },
  {
   "cell_type": "markdown",
   "id": "fdfd8ec8",
   "metadata": {},
   "source": [
    "Why would we want to do that when you have the state file already? Because now you can change the state to your convenience! Let's see how we can look more closely at Shader controls as a first example:\n"
   ]
  },
  {
   "cell_type": "code",
   "execution_count": 47,
   "id": "cfa1b069",
   "metadata": {},
   "outputs": [
    {
     "name": "stdout",
     "output_type": "stream",
     "text": [
      "{'normalized': {'range': [500, 1500]}}\n",
      "{'normalized': {'range': [500, 1500]}}\n",
      "{'normalized': {'range': [500, 1500]}}\n",
      "{'normalized': {'range': [500, 1500]}}\n",
      "{'normalized': {'range': [500, 1500]}}\n",
      "{'normalized': {'range': [500, 1500]}}\n",
      "{'normalized': {'range': [500, 1500]}}\n",
      "{'normalized': {'range': [500, 1500]}}\n",
      "{'normalized': {'range': [500, 1500]}}\n",
      "{'normalized': {'range': [500, 1500]}}\n",
      "{'normalized': {'range': [500, 1500]}}\n",
      "{'normalized': {'range': [500, 1500]}}\n",
      "{'normalized': {'range': [500, 1500]}}\n",
      "{'normalized': {'range': [500, 1500]}}\n",
      "{'normalized': {'range': [500, 1500]}}\n",
      "{'normalized': {'range': [500, 1500]}}\n",
      "{'normalized': {'range': [500, 1500]}}\n",
      "{'normalized': {'range': [500, 1500]}}\n",
      "{'normalized': {'range': [500, 1500]}}\n",
      "{'normalized': {'range': [500, 1500]}}\n",
      "{'normalized': {'range': [500, 1500]}}\n"
     ]
    }
   ],
   "source": [
    "# let's modify the state and try it\n",
    "\n",
    "for layer in state['layers']:\n",
    "    print(layer['shaderControls'])"
   ]
  },
  {
   "cell_type": "markdown",
   "id": "5b4a8be8",
   "metadata": {},
   "source": [
    "If we want to change the range in the data:"
   ]
  },
  {
   "cell_type": "code",
   "execution_count": 37,
   "id": "7644fddc",
   "metadata": {},
   "outputs": [
    {
     "name": "stdout",
     "output_type": "stream",
     "text": [
      "{'layers': [{'name': 'Pos0', 'shaderControls': {'normalized': {'range': [1000, 2000]}}, 'source': {'transform': {'matrix': [[1, 0, 0, 358.13941495493054], [0, 1, 0, 0.0], [0, 0, 1, 126.91444361209868]], 'outputDimensions': {'x': [0.406, 'um'], 'y': [0.406, 'um'], 'z': [1.997728062723303, 'um']}}, 'url': 'n5://http://bigkahuna.corp.alleninstitute.org/ACdata/processed/MN7_RH_3_2_s27_high_res//Pos0.n5/multirespos0'}, 'type': 'image'}, {'name': 'Pos1', 'shaderControls': {'normalized': {'range': [1000, 2000]}}, 'source': {'transform': {'matrix': [[1, 0, 0, 358.12384227849543], [0, 1, 0, 2283.342041015625], [0, 0, 1, 126.62536621093749]], 'outputDimensions': {'x': [0.406, 'um'], 'y': [0.406, 'um'], 'z': [1.997728062723303, 'um']}}, 'url': 'n5://http://bigkahuna.corp.alleninstitute.org/ACdata/processed/MN7_RH_3_2_s27_high_res//Pos1.n5/multirespos1'}, 'type': 'image'}, {'name': 'Pos2', 'shaderControls': {'normalized': {'range': [1000, 2000]}}, 'source': {'transform': {'matrix': [[1, 0, 0, 335.9668808374554], [0, 1, 0, 4003.6029052734375], [0, 0, 1, 118.7778010368347]], 'outputDimensions': {'x': [0.406, 'um'], 'y': [0.406, 'um'], 'z': [1.997728062723303, 'um']}}, 'url': 'n5://http://bigkahuna.corp.alleninstitute.org/ACdata/processed/MN7_RH_3_2_s27_high_res//Pos2.n5/multirespos2'}, 'type': 'image'}, {'name': 'Pos3', 'shaderControls': {'normalized': {'range': [1000, 2000]}}, 'source': {'transform': {'matrix': [[1, 0, 0, 314.6571197900921], [0, 1, 0, 5712.33056640625], [0, 0, 1, 110.7554678916931]], 'outputDimensions': {'x': [0.406, 'um'], 'y': [0.406, 'um'], 'z': [1.997728062723303, 'um']}}, 'url': 'n5://http://bigkahuna.corp.alleninstitute.org/ACdata/processed/MN7_RH_3_2_s27_high_res//Pos3.n5/multirespos3'}, 'type': 'image'}, {'name': 'Pos4', 'shaderControls': {'normalized': {'range': [1000, 2000]}}, 'source': {'transform': {'matrix': [[1, 0, 0, 292.04589275456965], [0, 1, 0, 7451.9893798828125], [0, 0, 1, 102.76490306854247]], 'outputDimensions': {'x': [0.406, 'um'], 'y': [0.406, 'um'], 'z': [1.997728062723303, 'um']}}, 'url': 'n5://http://bigkahuna.corp.alleninstitute.org/ACdata/processed/MN7_RH_3_2_s27_high_res//Pos4.n5/multirespos4'}, 'type': 'image'}, {'name': 'Pos5', 'shaderControls': {'normalized': {'range': [1000, 2000]}}, 'source': {'transform': {'matrix': [[1, 0, 0, 271.2580871973187], [0, 1, 0, 9158.80224609375], [0, 0, 1, 94.7933006286621]], 'outputDimensions': {'x': [0.406, 'um'], 'y': [0.406, 'um'], 'z': [1.997728062723303, 'um']}}, 'url': 'n5://http://bigkahuna.corp.alleninstitute.org/ACdata/processed/MN7_RH_3_2_s27_high_res//Pos5.n5/multirespos5'}, 'type': 'image'}, {'name': 'Pos6', 'shaderControls': {'normalized': {'range': [1000, 2000]}}, 'source': {'transform': {'matrix': [[1, 0, 0, 249.84399417974055], [0, 1, 0, 10899.2802734375], [0, 0, 1, 86.81372070312499]], 'outputDimensions': {'x': [0.406, 'um'], 'y': [0.406, 'um'], 'z': [1.997728062723303, 'um']}}, 'url': 'n5://http://bigkahuna.corp.alleninstitute.org/ACdata/processed/MN7_RH_3_2_s27_high_res//Pos6.n5/multirespos6'}, 'type': 'image'}, {'name': 'Pos7', 'shaderControls': {'normalized': {'range': [1000, 2000]}}, 'source': {'transform': {'matrix': [[1, 0, 0, 229.76094059087336], [0, 1, 0, 12606.106689453125], [0, 0, 1, 78.83975219726561]], 'outputDimensions': {'x': [0.406, 'um'], 'y': [0.406, 'um'], 'z': [1.997728062723303, 'um']}}, 'url': 'n5://http://bigkahuna.corp.alleninstitute.org/ACdata/processed/MN7_RH_3_2_s27_high_res//Pos7.n5/multirespos7'}, 'type': 'image'}, {'name': 'Pos8', 'shaderControls': {'normalized': {'range': [1000, 2000]}}, 'source': {'transform': {'matrix': [[1, 0, 0, 208.77601245976985], [0, 1, 0, 14344.33020019531], [0, 0, 1, 70.87097311019896]], 'outputDimensions': {'x': [0.406, 'um'], 'y': [0.406, 'um'], 'z': [1.997728062723303, 'um']}}, 'url': 'n5://http://bigkahuna.corp.alleninstitute.org/ACdata/processed/MN7_RH_3_2_s27_high_res//Pos8.n5/multirespos8'}, 'type': 'image'}, {'name': 'Pos9', 'shaderControls': {'normalized': {'range': [1000, 2000]}}, 'source': {'transform': {'matrix': [[1, 0, 0, 187.6875381860882], [0, 1, 0, 16053.188720703123], [0, 0, 1, 62.993132591247544]], 'outputDimensions': {'x': [0.406, 'um'], 'y': [0.406, 'um'], 'z': [1.997728062723303, 'um']}}, 'url': 'n5://http://bigkahuna.corp.alleninstitute.org/ACdata/processed/MN7_RH_3_2_s27_high_res//Pos9.n5/multirespos9'}, 'type': 'image'}, {'name': 'Pos10', 'shaderControls': {'normalized': {'range': [1000, 2000]}}, 'source': {'transform': {'matrix': [[1, 0, 0, 168.66041759587824], [0, 1, 0, 17773.38842773437], [0, 0, 1, 55.4636297225952]], 'outputDimensions': {'x': [0.406, 'um'], 'y': [0.406, 'um'], 'z': [1.997728062723303, 'um']}}, 'url': 'n5://http://bigkahuna.corp.alleninstitute.org/ACdata/processed/MN7_RH_3_2_s27_high_res//Pos10.n5/multirespos10'}, 'type': 'image'}, {'name': 'Pos11', 'shaderControls': {'normalized': {'range': [1000, 2000]}}, 'source': {'transform': {'matrix': [[1, 0, 0, 143.48947910405695], [0, 1, 0, 19501.298950195312], [0, 0, 1, 47.95719432830809]], 'outputDimensions': {'x': [0.406, 'um'], 'y': [0.406, 'um'], 'z': [1.997728062723303, 'um']}}, 'url': 'n5://http://bigkahuna.corp.alleninstitute.org/ACdata/processed/MN7_RH_3_2_s27_high_res//Pos11.n5/multirespos11'}, 'type': 'image'}, {'name': 'Pos12', 'shaderControls': {'normalized': {'range': [1000, 2000]}}, 'source': {'transform': {'matrix': [[1, 0, 0, 128.57045272924006], [0, 1, 0, 21220.947998046875], [0, 0, 1, 40.08452653884886]], 'outputDimensions': {'x': [0.406, 'um'], 'y': [0.406, 'um'], 'z': [1.997728062723303, 'um']}}, 'url': 'n5://http://bigkahuna.corp.alleninstitute.org/ACdata/processed/MN7_RH_3_2_s27_high_res//Pos12.n5/multirespos12'}, 'type': 'image'}, {'name': 'Pos13', 'shaderControls': {'normalized': {'range': [1000, 2000]}}, 'source': {'transform': {'matrix': [[1, 0, 0, 105.61771682836115], [0, 1, 0, 22964.813232421875], [0, 0, 1, 32.07001352310179]], 'outputDimensions': {'x': [0.406, 'um'], 'y': [0.406, 'um'], 'z': [1.997728062723303, 'um']}}, 'url': 'n5://http://bigkahuna.corp.alleninstitute.org/ACdata/processed/MN7_RH_3_2_s27_high_res//Pos13.n5/multirespos13'}, 'type': 'image'}, {'name': 'Pos14', 'shaderControls': {'normalized': {'range': [1000, 2000]}}, 'source': {'transform': {'matrix': [[1, 0, 0, 84.02714256383479], [0, 1, 0, 24684.833129882812], [0, 0, 1, 24.33958768844603]], 'outputDimensions': {'x': [0.406, 'um'], 'y': [0.406, 'um'], 'z': [1.997728062723303, 'um']}}, 'url': 'n5://http://bigkahuna.corp.alleninstitute.org/ACdata/processed/MN7_RH_3_2_s27_high_res//Pos14.n5/multirespos14'}, 'type': 'image'}, {'name': 'Pos15', 'shaderControls': {'normalized': {'range': [1000, 2000]}}, 'source': {'transform': {'matrix': [[1, 0, 0, 61.721240082755685], [0, 1, 0, 26429.08129882813], [0, 0, 1, 16.049221515655503]], 'outputDimensions': {'x': [0.406, 'um'], 'y': [0.406, 'um'], 'z': [1.997728062723303, 'um']}}, 'url': 'n5://http://bigkahuna.corp.alleninstitute.org/ACdata/processed/MN7_RH_3_2_s27_high_res//Pos15.n5/multirespos15'}, 'type': 'image'}, {'name': 'Pos16', 'shaderControls': {'normalized': {'range': [1000, 2000]}}, 'source': {'transform': {'matrix': [[1, 0, 0, 40.79490570165217], [0, 1, 0, 28137.08129882813], [0, 0, 1, 7.533556461334214]], 'outputDimensions': {'x': [0.406, 'um'], 'y': [0.406, 'um'], 'z': [1.997728062723303, 'um']}}, 'url': 'n5://http://bigkahuna.corp.alleninstitute.org/ACdata/processed/MN7_RH_3_2_s27_high_res//Pos16.n5/multirespos16'}, 'type': 'image'}, {'name': 'Pos17', 'shaderControls': {'normalized': {'range': [1000, 2000]}}, 'source': {'transform': {'matrix': [[1, 0, 0, 21.95512298680842], [0, 1, 0, 29865.133666992188], [0, 0, 1, 0.0]], 'outputDimensions': {'x': [0.406, 'um'], 'y': [0.406, 'um'], 'z': [1.997728062723303, 'um']}}, 'url': 'n5://http://bigkahuna.corp.alleninstitute.org/ACdata/processed/MN7_RH_3_2_s27_high_res//Pos17.n5/multirespos17'}, 'type': 'image'}, {'name': 'Pos18', 'shaderControls': {'normalized': {'range': [1000, 2000]}}, 'source': {'transform': {'matrix': [[1, 0, 0, 0.10654358007013798], [0, 1, 0, 31584.818359375004], [0, 0, 1, 0.8279836773872375]], 'outputDimensions': {'x': [0.406, 'um'], 'y': [0.406, 'um'], 'z': [1.997728062723303, 'um']}}, 'url': 'n5://http://bigkahuna.corp.alleninstitute.org/ACdata/processed/MN7_RH_3_2_s27_high_res//Pos18.n5/multirespos18'}, 'type': 'image'}, {'name': 'Pos19', 'shaderControls': {'normalized': {'range': [1000, 2000]}}, 'source': {'transform': {'matrix': [[1, 0, 0, 0.1292809545993805], [0, 1, 0, 33841.76098632813], [0, 0, 1, 0.5867610424756862]], 'outputDimensions': {'x': [0.406, 'um'], 'y': [0.406, 'um'], 'z': [1.997728062723303, 'um']}}, 'url': 'n5://http://bigkahuna.corp.alleninstitute.org/ACdata/processed/MN7_RH_3_2_s27_high_res//Pos19.n5/multirespos19'}, 'type': 'image'}, {'name': 'Pos20', 'shaderControls': {'normalized': {'range': [1000, 2000]}}, 'source': {'transform': {'matrix': [[1, 0, 0, 0.0], [0, 1, 0, 36118.86254882813], [0, 0, 1, 0.32442249357698927]], 'outputDimensions': {'x': [0.406, 'um'], 'y': [0.406, 'um'], 'z': [1.997728062723303, 'um']}}, 'url': 'n5://http://bigkahuna.corp.alleninstitute.org/ACdata/processed/MN7_RH_3_2_s27_high_res//Pos20.n5/multirespos20'}, 'type': 'image'}], 'showDefaultAnnotations': False}\n"
     ]
    }
   ],
   "source": [
    "for layer in state['layers']:\n",
    "    layer['shaderControls']['normalized']['range'] = [1000,2000]\n",
    "\n",
    "print(state)"
   ]
  },
  {
   "cell_type": "markdown",
   "id": "7963b6a1",
   "metadata": {},
   "source": [
    "Notice that all the range values have changed. We can now generate our neuroglancer link like this:"
   ]
  },
  {
   "cell_type": "code",
   "execution_count": 38,
   "id": "0befc517",
   "metadata": {},
   "outputs": [
    {
     "name": "stdout",
     "output_type": "stream",
     "text": [
      "http://bigkahuna.corp.alleninstitute.org/neuroglancer/#!%7B\"layers\":%5B%7B\"name\":\"Pos0\"%2C\"shaderControls\":%7B\"normalized\":%7B\"range\":%5B1000%2C2000%5D%7D%7D%2C\"source\":%7B\"transform\":%7B\"matrix\":%5B%5B1%2C0%2C0%2C358.13941495493054%5D%2C%5B0%2C1%2C0%2C0.0%5D%2C%5B0%2C0%2C1%2C126.91444361209868%5D%5D%2C\"outputDimensions\":%7B\"x\":%5B0.406%2C\"um\"%5D%2C\"y\":%5B0.406%2C\"um\"%5D%2C\"z\":%5B1.997728062723303%2C\"um\"%5D%7D%7D%2C\"url\":\"n5://http://bigkahuna.corp.alleninstitute.org/ACdata/processed/MN7_RH_3_2_s27_high_res//Pos0.n5/multirespos0\"%7D%2C\"type\":\"image\"%7D%2C%7B\"name\":\"Pos1\"%2C\"shaderControls\":%7B\"normalized\":%7B\"range\":%5B1000%2C2000%5D%7D%7D%2C\"source\":%7B\"transform\":%7B\"matrix\":%5B%5B1%2C0%2C0%2C358.12384227849543%5D%2C%5B0%2C1%2C0%2C2283.342041015625%5D%2C%5B0%2C0%2C1%2C126.62536621093749%5D%5D%2C\"outputDimensions\":%7B\"x\":%5B0.406%2C\"um\"%5D%2C\"y\":%5B0.406%2C\"um\"%5D%2C\"z\":%5B1.997728062723303%2C\"um\"%5D%7D%7D%2C\"url\":\"n5://http://bigkahuna.corp.alleninstitute.org/ACdata/processed/MN7_RH_3_2_s27_high_res//Pos1.n5/multirespos1\"%7D%2C\"type\":\"image\"%7D%2C%7B\"name\":\"Pos2\"%2C\"shaderControls\":%7B\"normalized\":%7B\"range\":%5B1000%2C2000%5D%7D%7D%2C\"source\":%7B\"transform\":%7B\"matrix\":%5B%5B1%2C0%2C0%2C335.9668808374554%5D%2C%5B0%2C1%2C0%2C4003.6029052734375%5D%2C%5B0%2C0%2C1%2C118.7778010368347%5D%5D%2C\"outputDimensions\":%7B\"x\":%5B0.406%2C\"um\"%5D%2C\"y\":%5B0.406%2C\"um\"%5D%2C\"z\":%5B1.997728062723303%2C\"um\"%5D%7D%7D%2C\"url\":\"n5://http://bigkahuna.corp.alleninstitute.org/ACdata/processed/MN7_RH_3_2_s27_high_res//Pos2.n5/multirespos2\"%7D%2C\"type\":\"image\"%7D%2C%7B\"name\":\"Pos3\"%2C\"shaderControls\":%7B\"normalized\":%7B\"range\":%5B1000%2C2000%5D%7D%7D%2C\"source\":%7B\"transform\":%7B\"matrix\":%5B%5B1%2C0%2C0%2C314.6571197900921%5D%2C%5B0%2C1%2C0%2C5712.33056640625%5D%2C%5B0%2C0%2C1%2C110.7554678916931%5D%5D%2C\"outputDimensions\":%7B\"x\":%5B0.406%2C\"um\"%5D%2C\"y\":%5B0.406%2C\"um\"%5D%2C\"z\":%5B1.997728062723303%2C\"um\"%5D%7D%7D%2C\"url\":\"n5://http://bigkahuna.corp.alleninstitute.org/ACdata/processed/MN7_RH_3_2_s27_high_res//Pos3.n5/multirespos3\"%7D%2C\"type\":\"image\"%7D%2C%7B\"name\":\"Pos4\"%2C\"shaderControls\":%7B\"normalized\":%7B\"range\":%5B1000%2C2000%5D%7D%7D%2C\"source\":%7B\"transform\":%7B\"matrix\":%5B%5B1%2C0%2C0%2C292.04589275456965%5D%2C%5B0%2C1%2C0%2C7451.9893798828125%5D%2C%5B0%2C0%2C1%2C102.76490306854247%5D%5D%2C\"outputDimensions\":%7B\"x\":%5B0.406%2C\"um\"%5D%2C\"y\":%5B0.406%2C\"um\"%5D%2C\"z\":%5B1.997728062723303%2C\"um\"%5D%7D%7D%2C\"url\":\"n5://http://bigkahuna.corp.alleninstitute.org/ACdata/processed/MN7_RH_3_2_s27_high_res//Pos4.n5/multirespos4\"%7D%2C\"type\":\"image\"%7D%2C%7B\"name\":\"Pos5\"%2C\"shaderControls\":%7B\"normalized\":%7B\"range\":%5B1000%2C2000%5D%7D%7D%2C\"source\":%7B\"transform\":%7B\"matrix\":%5B%5B1%2C0%2C0%2C271.2580871973187%5D%2C%5B0%2C1%2C0%2C9158.80224609375%5D%2C%5B0%2C0%2C1%2C94.7933006286621%5D%5D%2C\"outputDimensions\":%7B\"x\":%5B0.406%2C\"um\"%5D%2C\"y\":%5B0.406%2C\"um\"%5D%2C\"z\":%5B1.997728062723303%2C\"um\"%5D%7D%7D%2C\"url\":\"n5://http://bigkahuna.corp.alleninstitute.org/ACdata/processed/MN7_RH_3_2_s27_high_res//Pos5.n5/multirespos5\"%7D%2C\"type\":\"image\"%7D%2C%7B\"name\":\"Pos6\"%2C\"shaderControls\":%7B\"normalized\":%7B\"range\":%5B1000%2C2000%5D%7D%7D%2C\"source\":%7B\"transform\":%7B\"matrix\":%5B%5B1%2C0%2C0%2C249.84399417974055%5D%2C%5B0%2C1%2C0%2C10899.2802734375%5D%2C%5B0%2C0%2C1%2C86.81372070312499%5D%5D%2C\"outputDimensions\":%7B\"x\":%5B0.406%2C\"um\"%5D%2C\"y\":%5B0.406%2C\"um\"%5D%2C\"z\":%5B1.997728062723303%2C\"um\"%5D%7D%7D%2C\"url\":\"n5://http://bigkahuna.corp.alleninstitute.org/ACdata/processed/MN7_RH_3_2_s27_high_res//Pos6.n5/multirespos6\"%7D%2C\"type\":\"image\"%7D%2C%7B\"name\":\"Pos7\"%2C\"shaderControls\":%7B\"normalized\":%7B\"range\":%5B1000%2C2000%5D%7D%7D%2C\"source\":%7B\"transform\":%7B\"matrix\":%5B%5B1%2C0%2C0%2C229.76094059087336%5D%2C%5B0%2C1%2C0%2C12606.106689453125%5D%2C%5B0%2C0%2C1%2C78.83975219726561%5D%5D%2C\"outputDimensions\":%7B\"x\":%5B0.406%2C\"um\"%5D%2C\"y\":%5B0.406%2C\"um\"%5D%2C\"z\":%5B1.997728062723303%2C\"um\"%5D%7D%7D%2C\"url\":\"n5://http://bigkahuna.corp.alleninstitute.org/ACdata/processed/MN7_RH_3_2_s27_high_res//Pos7.n5/multirespos7\"%7D%2C\"type\":\"image\"%7D%2C%7B\"name\":\"Pos8\"%2C\"shaderControls\":%7B\"normalized\":%7B\"range\":%5B1000%2C2000%5D%7D%7D%2C\"source\":%7B\"transform\":%7B\"matrix\":%5B%5B1%2C0%2C0%2C208.77601245976985%5D%2C%5B0%2C1%2C0%2C14344.33020019531%5D%2C%5B0%2C0%2C1%2C70.87097311019896%5D%5D%2C\"outputDimensions\":%7B\"x\":%5B0.406%2C\"um\"%5D%2C\"y\":%5B0.406%2C\"um\"%5D%2C\"z\":%5B1.997728062723303%2C\"um\"%5D%7D%7D%2C\"url\":\"n5://http://bigkahuna.corp.alleninstitute.org/ACdata/processed/MN7_RH_3_2_s27_high_res//Pos8.n5/multirespos8\"%7D%2C\"type\":\"image\"%7D%2C%7B\"name\":\"Pos9\"%2C\"shaderControls\":%7B\"normalized\":%7B\"range\":%5B1000%2C2000%5D%7D%7D%2C\"source\":%7B\"transform\":%7B\"matrix\":%5B%5B1%2C0%2C0%2C187.6875381860882%5D%2C%5B0%2C1%2C0%2C16053.188720703123%5D%2C%5B0%2C0%2C1%2C62.993132591247544%5D%5D%2C\"outputDimensions\":%7B\"x\":%5B0.406%2C\"um\"%5D%2C\"y\":%5B0.406%2C\"um\"%5D%2C\"z\":%5B1.997728062723303%2C\"um\"%5D%7D%7D%2C\"url\":\"n5://http://bigkahuna.corp.alleninstitute.org/ACdata/processed/MN7_RH_3_2_s27_high_res//Pos9.n5/multirespos9\"%7D%2C\"type\":\"image\"%7D%2C%7B\"name\":\"Pos10\"%2C\"shaderControls\":%7B\"normalized\":%7B\"range\":%5B1000%2C2000%5D%7D%7D%2C\"source\":%7B\"transform\":%7B\"matrix\":%5B%5B1%2C0%2C0%2C168.66041759587824%5D%2C%5B0%2C1%2C0%2C17773.38842773437%5D%2C%5B0%2C0%2C1%2C55.4636297225952%5D%5D%2C\"outputDimensions\":%7B\"x\":%5B0.406%2C\"um\"%5D%2C\"y\":%5B0.406%2C\"um\"%5D%2C\"z\":%5B1.997728062723303%2C\"um\"%5D%7D%7D%2C\"url\":\"n5://http://bigkahuna.corp.alleninstitute.org/ACdata/processed/MN7_RH_3_2_s27_high_res//Pos10.n5/multirespos10\"%7D%2C\"type\":\"image\"%7D%2C%7B\"name\":\"Pos11\"%2C\"shaderControls\":%7B\"normalized\":%7B\"range\":%5B1000%2C2000%5D%7D%7D%2C\"source\":%7B\"transform\":%7B\"matrix\":%5B%5B1%2C0%2C0%2C143.48947910405695%5D%2C%5B0%2C1%2C0%2C19501.298950195312%5D%2C%5B0%2C0%2C1%2C47.95719432830809%5D%5D%2C\"outputDimensions\":%7B\"x\":%5B0.406%2C\"um\"%5D%2C\"y\":%5B0.406%2C\"um\"%5D%2C\"z\":%5B1.997728062723303%2C\"um\"%5D%7D%7D%2C\"url\":\"n5://http://bigkahuna.corp.alleninstitute.org/ACdata/processed/MN7_RH_3_2_s27_high_res//Pos11.n5/multirespos11\"%7D%2C\"type\":\"image\"%7D%2C%7B\"name\":\"Pos12\"%2C\"shaderControls\":%7B\"normalized\":%7B\"range\":%5B1000%2C2000%5D%7D%7D%2C\"source\":%7B\"transform\":%7B\"matrix\":%5B%5B1%2C0%2C0%2C128.57045272924006%5D%2C%5B0%2C1%2C0%2C21220.947998046875%5D%2C%5B0%2C0%2C1%2C40.08452653884886%5D%5D%2C\"outputDimensions\":%7B\"x\":%5B0.406%2C\"um\"%5D%2C\"y\":%5B0.406%2C\"um\"%5D%2C\"z\":%5B1.997728062723303%2C\"um\"%5D%7D%7D%2C\"url\":\"n5://http://bigkahuna.corp.alleninstitute.org/ACdata/processed/MN7_RH_3_2_s27_high_res//Pos12.n5/multirespos12\"%7D%2C\"type\":\"image\"%7D%2C%7B\"name\":\"Pos13\"%2C\"shaderControls\":%7B\"normalized\":%7B\"range\":%5B1000%2C2000%5D%7D%7D%2C\"source\":%7B\"transform\":%7B\"matrix\":%5B%5B1%2C0%2C0%2C105.61771682836115%5D%2C%5B0%2C1%2C0%2C22964.813232421875%5D%2C%5B0%2C0%2C1%2C32.07001352310179%5D%5D%2C\"outputDimensions\":%7B\"x\":%5B0.406%2C\"um\"%5D%2C\"y\":%5B0.406%2C\"um\"%5D%2C\"z\":%5B1.997728062723303%2C\"um\"%5D%7D%7D%2C\"url\":\"n5://http://bigkahuna.corp.alleninstitute.org/ACdata/processed/MN7_RH_3_2_s27_high_res//Pos13.n5/multirespos13\"%7D%2C\"type\":\"image\"%7D%2C%7B\"name\":\"Pos14\"%2C\"shaderControls\":%7B\"normalized\":%7B\"range\":%5B1000%2C2000%5D%7D%7D%2C\"source\":%7B\"transform\":%7B\"matrix\":%5B%5B1%2C0%2C0%2C84.02714256383479%5D%2C%5B0%2C1%2C0%2C24684.833129882812%5D%2C%5B0%2C0%2C1%2C24.33958768844603%5D%5D%2C\"outputDimensions\":%7B\"x\":%5B0.406%2C\"um\"%5D%2C\"y\":%5B0.406%2C\"um\"%5D%2C\"z\":%5B1.997728062723303%2C\"um\"%5D%7D%7D%2C\"url\":\"n5://http://bigkahuna.corp.alleninstitute.org/ACdata/processed/MN7_RH_3_2_s27_high_res//Pos14.n5/multirespos14\"%7D%2C\"type\":\"image\"%7D%2C%7B\"name\":\"Pos15\"%2C\"shaderControls\":%7B\"normalized\":%7B\"range\":%5B1000%2C2000%5D%7D%7D%2C\"source\":%7B\"transform\":%7B\"matrix\":%5B%5B1%2C0%2C0%2C61.721240082755685%5D%2C%5B0%2C1%2C0%2C26429.08129882813%5D%2C%5B0%2C0%2C1%2C16.049221515655503%5D%5D%2C\"outputDimensions\":%7B\"x\":%5B0.406%2C\"um\"%5D%2C\"y\":%5B0.406%2C\"um\"%5D%2C\"z\":%5B1.997728062723303%2C\"um\"%5D%7D%7D%2C\"url\":\"n5://http://bigkahuna.corp.alleninstitute.org/ACdata/processed/MN7_RH_3_2_s27_high_res//Pos15.n5/multirespos15\"%7D%2C\"type\":\"image\"%7D%2C%7B\"name\":\"Pos16\"%2C\"shaderControls\":%7B\"normalized\":%7B\"range\":%5B1000%2C2000%5D%7D%7D%2C\"source\":%7B\"transform\":%7B\"matrix\":%5B%5B1%2C0%2C0%2C40.79490570165217%5D%2C%5B0%2C1%2C0%2C28137.08129882813%5D%2C%5B0%2C0%2C1%2C7.533556461334214%5D%5D%2C\"outputDimensions\":%7B\"x\":%5B0.406%2C\"um\"%5D%2C\"y\":%5B0.406%2C\"um\"%5D%2C\"z\":%5B1.997728062723303%2C\"um\"%5D%7D%7D%2C\"url\":\"n5://http://bigkahuna.corp.alleninstitute.org/ACdata/processed/MN7_RH_3_2_s27_high_res//Pos16.n5/multirespos16\"%7D%2C\"type\":\"image\"%7D%2C%7B\"name\":\"Pos17\"%2C\"shaderControls\":%7B\"normalized\":%7B\"range\":%5B1000%2C2000%5D%7D%7D%2C\"source\":%7B\"transform\":%7B\"matrix\":%5B%5B1%2C0%2C0%2C21.95512298680842%5D%2C%5B0%2C1%2C0%2C29865.133666992188%5D%2C%5B0%2C0%2C1%2C0.0%5D%5D%2C\"outputDimensions\":%7B\"x\":%5B0.406%2C\"um\"%5D%2C\"y\":%5B0.406%2C\"um\"%5D%2C\"z\":%5B1.997728062723303%2C\"um\"%5D%7D%7D%2C\"url\":\"n5://http://bigkahuna.corp.alleninstitute.org/ACdata/processed/MN7_RH_3_2_s27_high_res//Pos17.n5/multirespos17\"%7D%2C\"type\":\"image\"%7D%2C%7B\"name\":\"Pos18\"%2C\"shaderControls\":%7B\"normalized\":%7B\"range\":%5B1000%2C2000%5D%7D%7D%2C\"source\":%7B\"transform\":%7B\"matrix\":%5B%5B1%2C0%2C0%2C0.10654358007013798%5D%2C%5B0%2C1%2C0%2C31584.818359375004%5D%2C%5B0%2C0%2C1%2C0.8279836773872375%5D%5D%2C\"outputDimensions\":%7B\"x\":%5B0.406%2C\"um\"%5D%2C\"y\":%5B0.406%2C\"um\"%5D%2C\"z\":%5B1.997728062723303%2C\"um\"%5D%7D%7D%2C\"url\":\"n5://http://bigkahuna.corp.alleninstitute.org/ACdata/processed/MN7_RH_3_2_s27_high_res//Pos18.n5/multirespos18\"%7D%2C\"type\":\"image\"%7D%2C%7B\"name\":\"Pos19\"%2C\"shaderControls\":%7B\"normalized\":%7B\"range\":%5B1000%2C2000%5D%7D%7D%2C\"source\":%7B\"transform\":%7B\"matrix\":%5B%5B1%2C0%2C0%2C0.1292809545993805%5D%2C%5B0%2C1%2C0%2C33841.76098632813%5D%2C%5B0%2C0%2C1%2C0.5867610424756862%5D%5D%2C\"outputDimensions\":%7B\"x\":%5B0.406%2C\"um\"%5D%2C\"y\":%5B0.406%2C\"um\"%5D%2C\"z\":%5B1.997728062723303%2C\"um\"%5D%7D%7D%2C\"url\":\"n5://http://bigkahuna.corp.alleninstitute.org/ACdata/processed/MN7_RH_3_2_s27_high_res//Pos19.n5/multirespos19\"%7D%2C\"type\":\"image\"%7D%2C%7B\"name\":\"Pos20\"%2C\"shaderControls\":%7B\"normalized\":%7B\"range\":%5B1000%2C2000%5D%7D%7D%2C\"source\":%7B\"transform\":%7B\"matrix\":%5B%5B1%2C0%2C0%2C0.0%5D%2C%5B0%2C1%2C0%2C36118.86254882813%5D%2C%5B0%2C0%2C1%2C0.32442249357698927%5D%5D%2C\"outputDimensions\":%7B\"x\":%5B0.406%2C\"um\"%5D%2C\"y\":%5B0.406%2C\"um\"%5D%2C\"z\":%5B1.997728062723303%2C\"um\"%5D%7D%7D%2C\"url\":\"n5://http://bigkahuna.corp.alleninstitute.org/ACdata/processed/MN7_RH_3_2_s27_high_res//Pos20.n5/multirespos20\"%7D%2C\"type\":\"image\"%7D%5D%2C\"showDefaultAnnotations\":false%7D\n"
     ]
    }
   ],
   "source": [
    "#create your link:\n",
    "\n",
    "myurl_with_updated_range = write_nglink.make_neuroglancer_url(state,\n",
    "                          base_url=\"http://bigkahuna.corp.alleninstitute.org/\"\n",
    "                          \"neuroglancer\")\n",
    "print(myurl_with_updated_range)"
   ]
  },
  {
   "cell_type": "markdown",
   "id": "3ff3bd42",
   "metadata": {},
   "source": [
    "Alternatively, we can use some tools to shorten this!"
   ]
  },
  {
   "cell_type": "code",
   "execution_count": 49,
   "id": "25d22af9",
   "metadata": {},
   "outputs": [
    {
     "name": "stdout",
     "output_type": "stream",
     "text": [
      "https://tinyurl.com/y8ymw7tj\n"
     ]
    }
   ],
   "source": [
    "#creating a tinyurl:\n",
    "\n",
    "from acpreprocessing.utils import make_tinyurl\n",
    "\n",
    "tinyurl = make_tinyurl.make_tiny(myurl_with_updated_range)\n",
    "print(tinyurl)"
   ]
  },
  {
   "cell_type": "markdown",
   "id": "5fa69726",
   "metadata": {},
   "source": [
    "Questions and homework:\n",
    "    \n",
    "What are the other things you can change in the layout?\n",
    "Exercise: generate neuroglancer link with only the first two positions\n",
    "\n"
   ]
  },
  {
   "cell_type": "code",
   "execution_count": null,
   "id": "982d685d",
   "metadata": {},
   "outputs": [],
   "source": []
  }
 ],
 "metadata": {
  "kernelspec": {
   "display_name": "Python 3 (ipykernel)",
   "language": "python",
   "name": "python3"
  },
  "language_info": {
   "codemirror_mode": {
    "name": "ipython",
    "version": 3
   },
   "file_extension": ".py",
   "mimetype": "text/x-python",
   "name": "python",
   "nbconvert_exporter": "python",
   "pygments_lexer": "ipython3",
   "version": "3.10.2"
  }
 },
 "nbformat": 4,
 "nbformat_minor": 5
}
